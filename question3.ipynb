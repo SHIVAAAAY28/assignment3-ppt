{
 "cells": [
  {
   "cell_type": "code",
   "execution_count": null,
   "metadata": {},
   "outputs": [],
   "source": [
    "💡 **Question 3**\n",
    "A permutation of an array of integers is an arrangement of its members into a\n",
    "sequence or linear order.\n",
    "\n",
    "For example, for arr = [1,2,3], the following are all the permutations of arr:\n",
    "[1,2,3], [1,3,2], [2, 1, 3], [2, 3, 1], [3,1,2], [3,2,1].\n",
    "\n",
    "The next permutation of an array of integers is the next lexicographically greater\n",
    "permutation of its integer. More formally, if all the permutations of the array are\n",
    "sorted in one container according to their lexicographical order, then the next\n",
    "permutation of that array is the permutation that follows it in the sorted container.\n",
    "\n",
    "If such an arrangement is not possible, the array must be rearranged as the\n",
    "lowest possible order (i.e., sorted in ascending order).\n",
    "\n",
    "● For example, the next permutation of arr = [1,2,3] is [1,3,2].\n",
    "● Similarly, the next permutation of arr = [2,3,1] is [3,1,2].\n",
    "● While the next permutation of arr = [3,2,1] is [1,2,3] because [3,2,1] does not\n",
    "have a lexicographical larger rearrangement.\n",
    "\n",
    "Given an array of integers nums, find the next permutation of nums.\n",
    "The replacement must be in place and use only constant extra memory.\n",
    "\n",
    "**Example 1:**\n",
    "Input: nums = [1,2,3]\n",
    "Output: [1,3,2]"
   ]
  },
  {
   "cell_type": "code",
   "execution_count": 2,
   "metadata": {},
   "outputs": [
    {
     "name": "stdout",
     "output_type": "stream",
     "text": [
      "[1, 3, 2]\n"
     ]
    }
   ],
   "source": [
    "def nextPermutation(nums):\n",
    "    n = len(nums)\n",
    "    i = n - 2\n",
    "\n",
    "    # Find the first decreasing element from the right\n",
    "    while i >= 0 and nums[i] >= nums[i + 1]:\n",
    "        i -= 1\n",
    "\n",
    "    if i >= 0:\n",
    "        j = n - 1\n",
    "\n",
    "        # Find the first element larger than nums[i]\n",
    "        while j >= 0 and nums[j] <= nums[i]:\n",
    "            j -= 1\n",
    "\n",
    "        # Swap nums[i] and nums[j]\n",
    "        nums[i], nums[j] = nums[j], nums[i]\n",
    "\n",
    "    # Reverse the subarray from i+1 to the end\n",
    "    left = i + 1\n",
    "    right = n - 1\n",
    "    while left < right:\n",
    "        nums[left], nums[right] = nums[right], nums[left]\n",
    "        left += 1\n",
    "        right -= 1\n",
    "\n",
    "    return nums\n",
    "\n",
    "nums = [1, 2, 3]\n",
    "\n",
    "result = nextPermutation(nums)\n",
    "print(result) \n"
   ]
  },
  {
   "cell_type": "code",
   "execution_count": null,
   "metadata": {},
   "outputs": [],
   "source": []
  }
 ],
 "metadata": {
  "kernelspec": {
   "display_name": "Python 3",
   "language": "python",
   "name": "python3"
  },
  "language_info": {
   "codemirror_mode": {
    "name": "ipython",
    "version": 3
   },
   "file_extension": ".py",
   "mimetype": "text/x-python",
   "name": "python",
   "nbconvert_exporter": "python",
   "pygments_lexer": "ipython3",
   "version": "3.8.0"
  },
  "orig_nbformat": 4
 },
 "nbformat": 4,
 "nbformat_minor": 2
}
