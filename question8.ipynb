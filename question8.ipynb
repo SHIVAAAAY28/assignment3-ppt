{
 "cells": [
  {
   "cell_type": "code",
   "execution_count": null,
   "metadata": {},
   "outputs": [],
   "source": [
    "Question 8\n",
    "Given an array of meeting time intervals where intervals[i] = [starti, endi],\n",
    "determine if a person could attend all meetings.\n",
    "\n",
    "Example 1:\n",
    "Input: intervals = [[0,30],[5,10],[15,20]]\n",
    "Output: false"
   ]
  },
  {
   "cell_type": "code",
   "execution_count": 1,
   "metadata": {},
   "outputs": [
    {
     "name": "stdout",
     "output_type": "stream",
     "text": [
      "False\n"
     ]
    }
   ],
   "source": [
    "def canAttendMeetings(intervals):\n",
    "    intervals.sort(key=lambda x: x[0])  # Sort intervals based on start time\n",
    "\n",
    "    for i in range(1, len(intervals)):\n",
    "        if intervals[i][0] < intervals[i - 1][1]:\n",
    "            return False\n",
    "\n",
    "    return True\n",
    "intervals = [[0, 30], [5, 10], [15, 20]]\n",
    "\n",
    "result = canAttendMeetings(intervals)\n",
    "print(result) \n",
    "\n"
   ]
  },
  {
   "cell_type": "code",
   "execution_count": null,
   "metadata": {},
   "outputs": [],
   "source": []
  }
 ],
 "metadata": {
  "kernelspec": {
   "display_name": "Python 3",
   "language": "python",
   "name": "python3"
  },
  "language_info": {
   "codemirror_mode": {
    "name": "ipython",
    "version": 3
   },
   "file_extension": ".py",
   "mimetype": "text/x-python",
   "name": "python",
   "nbconvert_exporter": "python",
   "pygments_lexer": "ipython3",
   "version": "3.8.0"
  },
  "orig_nbformat": 4
 },
 "nbformat": 4,
 "nbformat_minor": 2
}
